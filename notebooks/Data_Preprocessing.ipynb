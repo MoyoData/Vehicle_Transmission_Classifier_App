{
  "nbformat": 4,
  "nbformat_minor": 0,
  "metadata": {
    "colab": {
      "provenance": []
    },
    "kernelspec": {
      "name": "python3",
      "display_name": "Python 3"
    },
    "language_info": {
      "name": "python"
    }
  },
  "cells": [
    {
      "cell_type": "code",
      "execution_count": null,
      "metadata": {
        "id": "RN75pkpIntES"
      },
      "outputs": [],
      "source": []
    },
    {
      "cell_type": "markdown",
      "source": [
        "###**4. Splitting data into Train and Test sets.**"
      ],
      "metadata": {
        "id": "g5v9tDMJoAPR"
      }
    },
    {
      "cell_type": "code",
      "source": [
        "#importing train_test_split library\n",
        "from sklearn.model_selection import train_test_split"
      ],
      "metadata": {
        "id": "_gurwV8coDEq"
      },
      "execution_count": null,
      "outputs": []
    },
    {
      "cell_type": "code",
      "source": [
        "# defining the independent (X) and dependent (y) variables\n",
        "X = df_model_features.drop('transmission_from_vin', axis=1)\n",
        "y = df_model_features['transmission_from_vin']"
      ],
      "metadata": {
        "id": "8_oE32pOoFlU"
      },
      "execution_count": null,
      "outputs": []
    },
    {
      "cell_type": "code",
      "source": [
        "# splitting the dataset into train and test set\n",
        "X_train, X_test, y_train, y_test = train_test_split(X, y, test_size=0.2, stratify=y, random_state=42)"
      ],
      "metadata": {
        "id": "-3rBalmxoJWh"
      },
      "execution_count": null,
      "outputs": []
    },
    {
      "cell_type": "code",
      "source": [
        "# validating the shape of the train and test sets\n",
        "X_train.shape, X_test.shape, y_train.shape, y_test.shape"
      ],
      "metadata": {
        "id": "PMDvilDAoKwz"
      },
      "execution_count": null,
      "outputs": []
    },
    {
      "cell_type": "code",
      "source": [
        "X_train.head()"
      ],
      "metadata": {
        "id": "2ur6TR7-oRAX"
      },
      "execution_count": null,
      "outputs": []
    },
    {
      "cell_type": "code",
      "source": [
        "X_train.info()"
      ],
      "metadata": {
        "id": "820LbL-soTbQ"
      },
      "execution_count": null,
      "outputs": []
    },
    {
      "cell_type": "code",
      "source": [
        "X_test.head()"
      ],
      "metadata": {
        "id": "HKY9924SoWvd"
      },
      "execution_count": null,
      "outputs": []
    },
    {
      "cell_type": "code",
      "source": [
        "X_test.info()"
      ],
      "metadata": {
        "id": "efHqUJTooZnN"
      },
      "execution_count": null,
      "outputs": []
    },
    {
      "cell_type": "code",
      "source": [
        "y_train.head()"
      ],
      "metadata": {
        "id": "T9Zp-1eEocD8"
      },
      "execution_count": null,
      "outputs": []
    },
    {
      "cell_type": "code",
      "source": [
        "y_test.head()"
      ],
      "metadata": {
        "id": "-DnKF3lpofun"
      },
      "execution_count": null,
      "outputs": []
    },
    {
      "cell_type": "markdown",
      "source": [
        "### **5. Data Pre-processing - Encoding Categorical columns**"
      ],
      "metadata": {
        "id": "M0e-PZceoj6A"
      }
    },
    {
      "cell_type": "code",
      "source": [
        "from sklearn.preprocessing import LabelEncoder\n",
        "from sklearn.preprocessing import OrdinalEncoder\n",
        "from sklearn.preprocessing import OneHotEncoder"
      ],
      "metadata": {
        "id": "_uGvNB9Jontl"
      },
      "execution_count": null,
      "outputs": []
    },
    {
      "cell_type": "code",
      "source": [
        "from category_encoders import BinaryEncoder"
      ],
      "metadata": {
        "id": "o-ZbnFf7or_g"
      },
      "execution_count": null,
      "outputs": []
    },
    {
      "cell_type": "markdown",
      "source": [
        "###**Encoding X_train**\n",
        "**i) Encoding the 'make' column**"
      ],
      "metadata": {
        "id": "sB6fywcmovKh"
      }
    },
    {
      "cell_type": "code",
      "source": [
        "# checking the unique entries in 'make' column\n",
        "X_train['make'].unique()"
      ],
      "metadata": {
        "id": "_MEPwGrAozAq"
      },
      "execution_count": null,
      "outputs": []
    },
    {
      "cell_type": "code",
      "source": [
        "# checking the count of unique entries in 'make' column\n",
        "X_train['make'].nunique()"
      ],
      "metadata": {
        "id": "fcDruAbRo3R-"
      },
      "execution_count": null,
      "outputs": []
    },
    {
      "cell_type": "code",
      "source": [
        "# Encoding the 'make' column with BinaryEncoder\n",
        "be_make = BinaryEncoder(cols = ['make'])\n",
        "X_train = be_make.fit_transform(X_train)"
      ],
      "metadata": {
        "id": "TbciPOPeo62G"
      },
      "execution_count": null,
      "outputs": []
    },
    {
      "cell_type": "code",
      "source": [
        "# confirming the 'make' column has been encoded\n",
        "X_train.head()"
      ],
      "metadata": {
        "id": "DsgoF-1FpyNI"
      },
      "execution_count": null,
      "outputs": []
    },
    {
      "cell_type": "markdown",
      "source": [
        "**ii)Encoding the 'model' column**"
      ],
      "metadata": {
        "id": "G-Kx5NFAp38D"
      }
    },
    {
      "cell_type": "code",
      "source": [
        "# checking the unique entries in 'model' column\n",
        "X_train['model'].unique()"
      ],
      "metadata": {
        "id": "ItUnc6Hcp7D3"
      },
      "execution_count": null,
      "outputs": []
    },
    {
      "cell_type": "code",
      "source": [
        "X_train['model'].nunique()"
      ],
      "metadata": {
        "id": "hc660pBNp_RB"
      },
      "execution_count": null,
      "outputs": []
    },
    {
      "cell_type": "code",
      "source": [
        "# Encoding the 'model' column with BinaryEncoder\n",
        "be_model = BinaryEncoder(cols = ['model'])\n",
        "X_train = be_model.fit_transform(X_train)"
      ],
      "metadata": {
        "id": "a1pj3BzPqBmz"
      },
      "execution_count": null,
      "outputs": []
    },
    {
      "cell_type": "code",
      "source": [
        "X_train.head()"
      ],
      "metadata": {
        "id": "swVz3rVyqD7M"
      },
      "execution_count": null,
      "outputs": []
    },
    {
      "cell_type": "code",
      "source": [
        "X_train.shape"
      ],
      "metadata": {
        "id": "CtK92-17qGfh"
      },
      "execution_count": null,
      "outputs": []
    },
    {
      "cell_type": "markdown",
      "source": [
        "**iii) Encoding the 'stock_type' column**"
      ],
      "metadata": {
        "id": "sP7AZbuVqJxN"
      }
    },
    {
      "cell_type": "code",
      "source": [
        "# checking the unique entries in the 'stock_type' column\n",
        "X_train['stock_type'].unique()"
      ],
      "metadata": {
        "id": "lDeZG8LJqMm5"
      },
      "execution_count": null,
      "outputs": []
    },
    {
      "cell_type": "code",
      "source": [
        "# Encoding the stock_type column with LabelEncoder\n",
        "\n",
        "le_number_stock_type = LabelEncoder()\n",
        "X_train['stock_type'] = le_number_stock_type.fit_transform(X_train['stock_type'])\n"
      ],
      "metadata": {
        "id": "4DqvZIx8qQrl"
      },
      "execution_count": null,
      "outputs": []
    },
    {
      "cell_type": "code",
      "source": [
        "#checking 'exterior_color_category' column has been encoded and the 1631 unique entries have been captured in 11 columns\n",
        "X_train.head()"
      ],
      "metadata": {
        "id": "p-v1wbJuqTlJ"
      },
      "execution_count": null,
      "outputs": []
    },
    {
      "cell_type": "markdown",
      "source": [
        "**vii) Encoding the 'dealer_type' column**"
      ],
      "metadata": {
        "id": "sBl6ZE5ZrFGP"
      }
    },
    {
      "cell_type": "code",
      "source": [
        "# checking the unique entries in the 'dealer_type' column\n",
        "X_train['dealer_type'].unique()"
      ],
      "metadata": {
        "id": "osGgae4rrHE8"
      },
      "execution_count": null,
      "outputs": []
    },
    {
      "cell_type": "code",
      "source": [
        "# Encoding the dealer_type column with LabelEncoder\n",
        "\n",
        "le_dealer_type = LabelEncoder()\n",
        "X_train['dealer_type'] = le_dealer_type.fit_transform(X_train['dealer_type'])"
      ],
      "metadata": {
        "id": "GjnLMX5DrMx7"
      },
      "execution_count": null,
      "outputs": []
    },
    {
      "cell_type": "code",
      "source": [
        "X_train.head()"
      ],
      "metadata": {
        "id": "DSgmP81zrQeS"
      },
      "execution_count": null,
      "outputs": []
    },
    {
      "cell_type": "markdown",
      "source": [
        "**viii) Encoding the 'fuel_type_from_vin' column**"
      ],
      "metadata": {
        "id": "RqudiI0vrSax"
      }
    },
    {
      "cell_type": "code",
      "source": [
        "# checking the unique entries in the 'fuel_type_from_vin' column\n",
        "X_train['fuel_type_from_vin'].unique()+-"
      ],
      "metadata": {
        "id": "LOYw5jxArghE"
      },
      "execution_count": null,
      "outputs": []
    },
    {
      "cell_type": "code",
      "source": [
        "X_test['fuel_type_from_vin'].unique()"
      ],
      "metadata": {
        "id": "wOGLLKrTrjHr"
      },
      "execution_count": null,
      "outputs": []
    },
    {
      "cell_type": "code",
      "source": [
        "# Encoding the fuel_type_from_vin column with OnehotEncoder\n",
        "X_train = pd.get_dummies(X_train, columns=['fuel_type_from_vin'], dtype = 'int')"
      ],
      "metadata": {
        "id": "gt9XIz64roM6"
      },
      "execution_count": null,
      "outputs": []
    },
    {
      "cell_type": "code",
      "source": [
        "X_train.head()"
      ],
      "metadata": {
        "id": "ptdIIdJWrrCj"
      },
      "execution_count": null,
      "outputs": []
    },
    {
      "cell_type": "code",
      "source": [
        "X_train.shape"
      ],
      "metadata": {
        "id": "2_UF73ALrtek"
      },
      "execution_count": null,
      "outputs": []
    },
    {
      "cell_type": "markdown",
      "source": [
        "### **Encoding X_test**"
      ],
      "metadata": {
        "id": "USTmMtySrwie"
      }
    },
    {
      "cell_type": "code",
      "source": [
        "# checking the unique entries in 'make' column\n",
        "X_test['make'].unique()"
      ],
      "metadata": {
        "id": "BzUJaKHvrz49"
      },
      "execution_count": null,
      "outputs": []
    },
    {
      "cell_type": "code",
      "source": [
        "# Encoding the 'make' column with BinaryEncoder\n",
        "be_make = BinaryEncoder(cols = ['make'])\n",
        "X_test = be_make.fit_transform(X_test)"
      ],
      "metadata": {
        "id": "vbIxdLicr34q"
      },
      "execution_count": null,
      "outputs": []
    },
    {
      "cell_type": "code",
      "source": [
        "# Encoding the 'model' column with BinaryEncoder\n",
        "be_model = BinaryEncoder(cols = ['model'])\n",
        "X_test = be_model.fit_transform(X_test)"
      ],
      "metadata": {
        "id": "WgzEXodtr6sh"
      },
      "execution_count": null,
      "outputs": []
    },
    {
      "cell_type": "code",
      "source": [
        "# Encoding the stock_type column with LabelEncoder\n",
        "\n",
        "le_number_stock_type = LabelEncoder()\n",
        "X_test['stock_type'] = le_number_stock_type.fit_transform(X_test['stock_type'])"
      ],
      "metadata": {
        "id": "z-hp0sZIr_pL"
      },
      "execution_count": null,
      "outputs": []
    },
    {
      "cell_type": "code",
      "source": [
        "X_test.head()"
      ],
      "metadata": {
        "id": "AWVtg5Y7sDZ7"
      },
      "execution_count": null,
      "outputs": []
    },
    {
      "cell_type": "code",
      "source": [
        "print(X_train.shape)\n",
        "print(X_test.shape)"
      ],
      "metadata": {
        "id": "LarMBC36sFm-"
      },
      "execution_count": null,
      "outputs": []
    },
    {
      "cell_type": "code",
      "source": [
        "X_test.info()"
      ],
      "metadata": {
        "id": "lorIQ_dxsH_O"
      },
      "execution_count": null,
      "outputs": []
    },
    {
      "cell_type": "markdown",
      "source": [
        "### **Encoding y_train & y_test**"
      ],
      "metadata": {
        "id": "EUXrRGncsPmQ"
      }
    },
    {
      "cell_type": "code",
      "source": [
        "y_train = pd.get_dummies(y_train, columns=['transmission_from_vin'], dtype = 'int', drop_first= True)\n",
        "y_train.head()"
      ],
      "metadata": {
        "id": "pDlKPy0ZsWg3"
      },
      "execution_count": null,
      "outputs": []
    },
    {
      "cell_type": "code",
      "source": [
        "y_test = pd.get_dummies(y_test, columns=['y_test'], dtype = 'int', drop_first= True)\n",
        "y_test.head()"
      ],
      "metadata": {
        "id": "RF3ZFsl1sZ51"
      },
      "execution_count": null,
      "outputs": []
    },
    {
      "cell_type": "code",
      "source": [
        "# rename M to transmission_from_vin in y_train and y_test\n",
        "y_train.rename(columns={'M': 'transmission_from_vin'}, inplace=True)\n",
        "y_test.rename(columns={'M': 'transmission_from_vin'}, inplace=True)"
      ],
      "metadata": {
        "id": "U16KnX_8scG8"
      },
      "execution_count": null,
      "outputs": []
    },
    {
      "cell_type": "code",
      "source": [
        "print(y_train.info())\n",
        "print(y_test.info())"
      ],
      "metadata": {
        "id": "AMBiXLzssesY"
      },
      "execution_count": null,
      "outputs": []
    },
    {
      "cell_type": "code",
      "source": [
        "print(y_train.head())\n",
        "print(y_test.head())"
      ],
      "metadata": {
        "id": "KmvBOTebsh83"
      },
      "execution_count": null,
      "outputs": []
    },
    {
      "cell_type": "markdown",
      "source": [
        "### **6. Handling Imbalanced data columns**"
      ],
      "metadata": {
        "id": "e4pNsWvqslLU"
      }
    },
    {
      "cell_type": "code",
      "source": [
        "from ydata_profiling import ProfileReport"
      ],
      "metadata": {
        "id": "4-Nq0831s_ky"
      },
      "execution_count": null,
      "outputs": []
    },
    {
      "cell_type": "code",
      "source": [
        "profile = ProfileReport(X_train, title=\"Pandas Profiling Report\", explorative=True)\n",
        "profile"
      ],
      "metadata": {
        "id": "pHIDgob-tCQW"
      },
      "execution_count": null,
      "outputs": []
    },
    {
      "cell_type": "markdown",
      "source": [
        "The result of profiling X_train set after encoding shows high imbalance in\n",
        "\n",
        "model_0\n",
        "model_1\n",
        "certified\n",
        "fuel_type_from_vin_CNG\n",
        "fuel_type_from_vin_Diesel\n",
        "fuel_type_from_vin_Electric\n",
        "fuel_type_from_vin_Hybrid\n",
        "fuel_type_from_vin_Hydrogen\n",
        "fuel_type_from_vin_PHEV"
      ],
      "metadata": {
        "id": "IG0AS2_ZtIHf"
      }
    },
    {
      "cell_type": "code",
      "source": [
        "#count the number of classes in each imbalanced column in the Train set\n",
        "print(X_train['model_0'].value_counts())\n",
        "print(X_train['model_1'].value_counts())\n",
        "print(X_train['certified'].value_counts())\n",
        "print(X_train['fuel_type_from_vin_CNG'].value_counts())\n",
        "print(X_train['fuel_type_from_vin_Diesel'].value_counts())\n",
        "print(X_train['fuel_type_from_vin_Electric'].value_counts())\n",
        "print(X_train['fuel_type_from_vin_Hybrid'].value_counts())\n",
        "print(X_train['fuel_type_from_vin_Hydrogen'].value_counts())\n",
        "print(X_train['fuel_type_from_vin_PHEV'].value_counts())\n",
        "print(y_train['transmission_from_vin'].value_counts())\n"
      ],
      "metadata": {
        "id": "Gw9kn3cbtNIm"
      },
      "execution_count": null,
      "outputs": []
    },
    {
      "cell_type": "code",
      "source": [
        "print(X_test.columns)"
      ],
      "metadata": {
        "id": "VZ_4iaUVtR85"
      },
      "execution_count": null,
      "outputs": []
    },
    {
      "cell_type": "code",
      "source": [
        "missing_columns = ['fuel_type_from_vin_CNG']  # Columns that might be missing\n",
        "\n",
        "for col in missing_columns:\n",
        "    if col not in X_test.columns:\n",
        "        X_test[col] = 0  # Add missing column with value 0"
      ],
      "metadata": {
        "id": "JmKIXJ9jtaKV"
      },
      "execution_count": null,
      "outputs": []
    },
    {
      "cell_type": "code",
      "source": [
        "#count the number of classes in each imbalanced column in the Test set\n",
        "print(X_test['model_0'].value_counts())\n",
        "print(X_test['model_1'].value_counts())\n",
        "print(X_test['certified'].value_counts())\n",
        "print(X_test['fuel_type_from_vin_CNG'].value_counts())\n",
        "print(X_test['fuel_type_from_vin_Diesel'].value_counts())\n",
        "print(X_test['fuel_type_from_vin_Electric'].value_counts())\n",
        "print(X_test['fuel_type_from_vin_Hybrid'].value_counts())\n",
        "print(X_test['fuel_type_from_vin_Hydrogen'].value_counts())\n",
        "print(X_test['fuel_type_from_vin_PHEV'].value_counts())\n",
        "print(y_test['transmission_from_vin'].value_counts())"
      ],
      "metadata": {
        "id": "D9rzLnxUtd3k"
      },
      "execution_count": null,
      "outputs": []
    },
    {
      "cell_type": "markdown",
      "source": [
        "**Visualization of Imbalanced columns in the Train set**"
      ],
      "metadata": {
        "id": "lvAvR41AtiFF"
      }
    },
    {
      "cell_type": "code",
      "source": [
        "import seaborn as sns\n",
        "import matplotlib.pyplot as plt\n",
        "\n",
        "# Create individual countplots for each column\n",
        "fig, axes = plt.subplots(5, 2, figsize=(15, 20))  # Adjust figsize as needed\n",
        "\n",
        "sns.countplot(x='model_0', hue = 'model_0', data=X_train, ax=axes[0, 0])\n",
        "sns.countplot(x='model_1', hue = 'model_1', data=X_train, ax=axes[0, 1])\n",
        "sns.countplot(x='certified', hue = 'certified', data=X_train, ax=axes[1, 0])\n",
        "sns.countplot(x='fuel_type_from_vin_CNG', hue = 'fuel_type_from_vin_CNG', data=X_train, ax=axes[1, 1])\n",
        "sns.countplot(x='fuel_type_from_vin_Diesel', hue = 'fuel_type_from_vin_Diesel', data=X_train, ax=axes[2, 0])\n",
        "sns.countplot(x='fuel_type_from_vin_Electric', hue = 'fuel_type_from_vin_Electric', data=X_train, ax=axes[2, 1])\n",
        "sns.countplot(x='fuel_type_from_vin_Hybrid', hue = 'fuel_type_from_vin_Hybrid', data=X_train, ax=axes[3, 0])\n",
        "sns.countplot(x='fuel_type_from_vin_Hydrogen', hue = 'fuel_type_from_vin_Hydrogen', data=X_train, ax=axes[3, 1])\n",
        "sns.countplot(x='fuel_type_from_vin_PHEV', hue = 'fuel_type_from_vin_PHEV', data=X_train, ax=axes[4, 0])\n",
        "sns.countplot(x='transmission_from_vin', hue = 'transmission_from_vin', data=y_train, ax=axes[4, 1])\n",
        "# clear extra subplots to avoid empty plots\n",
        "# axes[4, 1].axis('off')\n",
        "plt.tight_layout()  # Adjust spacing between subplots\n",
        "plt.show()"
      ],
      "metadata": {
        "id": "QCqtu9-utlar"
      },
      "execution_count": null,
      "outputs": []
    },
    {
      "cell_type": "markdown",
      "source": [
        "**Using SMOTE technique to handle imbalance in Train set**"
      ],
      "metadata": {
        "id": "l8m-UCYtt4tz"
      }
    },
    {
      "cell_type": "code",
      "source": [
        "from imblearn.over_sampling import SMOTE\n",
        "import pandas as pd\n",
        "from sklearn.impute import SimpleImputer\n",
        "\n",
        "# Select specific columns (features to balance)\n",
        "selected_columns = ['model_0', 'model_1', 'certified', 'fuel_type_from_vin_Diesel',\n",
        "                    'fuel_type_from_vin_Electric', 'fuel_type_from_vin_Hybrid',\n",
        "                    'fuel_type_from_vin_PHEV']\n",
        "X = X_train[selected_columns]\n",
        "y = y_train['transmission_from_vin']\n",
        "\n",
        "# Initialize SMOTE\n",
        "smote = SMOTE(random_state=42, k_neighbors=1)\n",
        "\n",
        "# Initialize Imputer to replace NaN with most frequent value\n",
        "imputer = SimpleImputer(strategy='most_frequent')\n",
        "\n",
        "# Impute missing values in X before resampling\n",
        "X_imputed = imputer.fit_transform(X)\n",
        "\n",
        "# Convert imputed numpy array back to DataFrame with the original index\n",
        "X_imputed = pd.DataFrame(X_imputed, columns=selected_columns, index=X.index)\n",
        "\n",
        "# Apply SMOTE to balance the target variable\n",
        "X_resampled, y_resampled = smote.fit_resample(X_imputed, y)\n",
        "\n",
        "# Instead of concat, use the original index to update the values\n",
        "X_train_resampled_combined = X_train.copy()  # Create a copy\n",
        "\n",
        "# Ensure X_resampled index is a subset of X_train_resampled_combined index\n",
        "# and handle potential NaN values in the index\n",
        "common_index = X_resampled.index.intersection(X_train_resampled_combined.index)\n",
        "common_index = common_index[~pd.isnull(common_index)]  # Remove NaN values from the index\n",
        "X_resampled = X_resampled.loc[common_index]\n",
        "y_resampled = y_resampled[common_index.astype(int)]  # Ensure y_resampled is also filtered\n",
        "\n",
        "# Now update using the common index and handle potential NaN values in columns\n",
        "for col in selected_columns:\n",
        "    X_train_resampled_combined.loc[common_index, col] = X_resampled.loc[common_index, col].fillna(X_train_resampled_combined[col].mode()[0])\n",
        "\n",
        "# Ensure X_train_resampled_combined and y_resampled have the same number of samples\n",
        "X_train_resampled_combined = X_train_resampled_combined.loc[y_resampled.index]\n",
        "\n",
        "# Now X_train_resampled_combined and y_resampled are ready for further use, with matching sample counts"
      ],
      "metadata": {
        "id": "_2JJ4H8Bt-BY"
      },
      "execution_count": null,
      "outputs": []
    },
    {
      "cell_type": "code",
      "source": [
        "print(X_train_resampled_combined.shape)\n",
        "print(y_resampled.shape)"
      ],
      "metadata": {
        "id": "A9faRIeGuBVA"
      },
      "execution_count": null,
      "outputs": []
    },
    {
      "cell_type": "code",
      "source": [
        "#count the number of classes in each column of the Train set after handling imbalance\n",
        "print(X_train_resampled_combined['model_0'].value_counts())\n",
        "print(X_train_resampled_combined['model_1'].value_counts())\n",
        "print(X_train_resampled_combined['certified'].value_counts())\n",
        "print(X_train_resampled_combined['fuel_type_from_vin_CNG'].value_counts())\n",
        "print(X_train_resampled_combined['fuel_type_from_vin_Diesel'].value_counts())\n",
        "print(X_train_resampled_combined['fuel_type_from_vin_Electric'].value_counts())\n",
        "print(X_train_resampled_combined['fuel_type_from_vin_Hybrid'].value_counts())\n",
        "print(X_train_resampled_combined['fuel_type_from_vin_Hydrogen'].value_counts())\n",
        "print(X_train_resampled_combined['fuel_type_from_vin_PHEV'].value_counts())\n",
        "print(y_resampled.value_counts())"
      ],
      "metadata": {
        "id": "InglNBYauEjS"
      },
      "execution_count": null,
      "outputs": []
    },
    {
      "cell_type": "code",
      "source": [
        "# Create individual countplots for each column\n",
        "fig, axes = plt.subplots(5, 2, figsize=(15, 20))\n",
        "\n",
        "sns.countplot(x='model_0', hue = 'model_0', data=X_train_resampled_combined, ax=axes[0, 0])\n",
        "sns.countplot(x='model_1', hue = 'model_1', data=X_train_resampled_combined, ax=axes[0, 1])\n",
        "sns.countplot(x='certified', hue = 'certified', data=X_train_resampled_combined, ax=axes[1, 0])\n",
        "sns.countplot(x='fuel_type_from_vin_CNG', hue = 'fuel_type_from_vin_CNG', data=X_train_resampled_combined, ax=axes[1, 1])\n",
        "sns.countplot(x='fuel_type_from_vin_Diesel', hue = 'fuel_type_from_vin_Diesel', data=X_train_resampled_combined, ax=axes[2, 0])\n",
        "sns.countplot(x='fuel_type_from_vin_Electric', hue = 'fuel_type_from_vin_Electric', data=X_train_resampled_combined, ax=axes[2, 1])\n",
        "sns.countplot(x='fuel_type_from_vin_Hybrid', hue = 'fuel_type_from_vin_Hybrid', data=X_train_resampled_combined, ax=axes[3, 0])\n",
        "sns.countplot(x='fuel_type_from_vin_Hydrogen', hue = 'fuel_type_from_vin_Hydrogen', data=X_train_resampled_combined, ax=axes[3, 1])\n",
        "sns.countplot(x='fuel_type_from_vin_PHEV', hue = 'fuel_type_from_vin_PHEV', data=X_train_resampled_combined, ax=axes[4, 0])\n",
        "# Convert y_resampled to a DataFrame\n",
        "y_resampled_df = y_resampled.to_frame()\n",
        "sns.countplot(x='transmission_from_vin', hue = 'transmission_from_vin', data=y_resampled_df, ax=axes[4, 1])\n",
        "# clear extra subplots to avoid empty plots\n",
        "# axes[4, 1].axis('off')\n",
        "plt.tight_layout()  # Adjust spacing between subplots\n",
        "plt.show()"
      ],
      "metadata": {
        "id": "EMZFxdh_uICQ"
      },
      "execution_count": null,
      "outputs": []
    },
    {
      "cell_type": "markdown",
      "source": [
        "**Using SMOTE technique to handle imbalance in Test set**"
      ],
      "metadata": {
        "id": "ySq8b28ZuL4q"
      }
    },
    {
      "cell_type": "code",
      "source": [
        "# Create individual countplots for each column\n",
        "fig, axes = plt.subplots(5, 2, figsize=(15, 20))\n",
        "\n",
        "sns.countplot(x='model_0', hue = 'model_0', data=X_test, ax=axes[0, 0])\n",
        "sns.countplot(x='model_1', hue = 'model_1', data=X_test, ax=axes[0, 1])\n",
        "sns.countplot(x='certified', hue = 'certified', data=X_test, ax=axes[1, 0])\n",
        "sns.countplot(x='fuel_type_from_vin_CNG', hue = 'fuel_type_from_vin_CNG', data=X_test, ax=axes[1, 1])\n",
        "sns.countplot(x='fuel_type_from_vin_Diesel', hue = 'fuel_type_from_vin_Diesel', data=X_test, ax=axes[2, 0])\n",
        "sns.countplot(x='fuel_type_from_vin_Electric', hue = 'fuel_type_from_vin_Electric', data=X_test, ax=axes[2, 1])\n",
        "sns.countplot(x='fuel_type_from_vin_Hybrid', hue = 'fuel_type_from_vin_Hybrid', data=X_test, ax=axes[3, 0])\n",
        "sns.countplot(x='fuel_type_from_vin_Hydrogen', hue = 'fuel_type_from_vin_Hydrogen', data=X_test, ax=axes[3, 1])\n",
        "sns.countplot(x='fuel_type_from_vin_PHEV', hue = 'fuel_type_from_vin_PHEV', data=X_test, ax=axes[4, 0])\n",
        "sns.countplot(x='transmission_from_vin', hue = 'transmission_from_vin', data=y_test, ax=axes[4, 1])\n",
        "# clear extra subplots to avoid empty plots\n",
        "# axes[4, 1].axis('off')\n",
        "plt.tight_layout()  # Adjust spacing between subplots\n",
        "plt.show()"
      ],
      "metadata": {
        "id": "mCmGugC-uOta"
      },
      "execution_count": null,
      "outputs": []
    },
    {
      "cell_type": "code",
      "source": [
        "import pandas as pd\n",
        "import numpy as np\n",
        "from imblearn.over_sampling import SMOTE\n",
        "from sklearn.impute import SimpleImputer\n",
        "\n",
        "# Select specific columns (features to balance)\n",
        "selected_columns = ['model_0', 'model_1', 'certified',\n",
        "                    'fuel_type_from_vin_Diesel', 'fuel_type_from_vin_Electric',\n",
        "                    'fuel_type_from_vin_Hybrid',\n",
        "                    'fuel_type_from_vin_PHEV']\n",
        "X1 = X_test[selected_columns]\n",
        "y1 = y_test['transmission_from_vin']\n",
        "\n",
        "# Initialize SMOTE with k_neighbors=1\n",
        "smote = SMOTE(random_state=42, k_neighbors=1)\n",
        "\n",
        "# Initialize Imputer to replace NaN with most frequent value\n",
        "imputer = SimpleImputer(strategy='most_frequent')\n",
        "\n",
        "# Impute missing values in X1\n",
        "X1_imputed = pd.DataFrame(imputer.fit_transform(X1), columns=X1.columns)\n",
        "\n",
        "# Create a copy of X to store resampled data\n",
        "X1_resampled = X1_imputed.copy()\n",
        "\n",
        "# Apply SMOTE to each selected feature, but skip if insufficient minority samples\n",
        "for feature in selected_columns:\n",
        "    temp_y1 = X1_imputed[feature]\n",
        "    unique_values, counts = np.unique(temp_y1, return_counts=True)\n",
        "    minority_class_count = counts.min()\n",
        "\n",
        "    if minority_class_count > smote.k_neighbors:\n",
        "        X1_feature_resampled, _ = smote.fit_resample(X1_imputed, temp_y1)\n",
        "        X1_resampled[feature] = X1_feature_resampled[feature]\n",
        "    else:\n",
        "        print(f\"Skipping SMOTE for feature '{feature}' due to insufficient minority class samples.\")\n",
        "\n",
        "# Apply SMOTE to balance the target variable\n",
        "X1_resampled, y1_resampled = smote.fit_resample(X1_resampled, y1)\n",
        "\n",
        "X_test_remaining = X_test.drop(columns=selected_columns)\n",
        "X_test_resampled_combined = pd.concat([X_test_remaining, X1_resampled], axis=1)\n",
        "\n",
        "# If rows don't match, adjust X_test_resampled_combined\n",
        "if X_test_resampled_combined.shape[0] != y1_resampled.shape[0]:\n",
        "    num_rows_to_adjust = y1_resampled.shape[0] - X_test_resampled_combined.shape[0]\n",
        "\n",
        "    if num_rows_to_adjust > 0:  # Need to add rows\n",
        "        additional_rows = X_test_remaining.sample(n=num_rows_to_adjust, replace=True, random_state=42)\n",
        "        X_test_remaining = pd.concat([X_test_remaining, additional_rows], ignore_index=True)\n",
        "        X_test_resampled_combined = pd.concat([X_test_remaining, X1_resampled], axis=1)\n",
        "\n",
        "    elif num_rows_to_adjust < 0:  # Need to remove rows\n",
        "        # Remove extra rows from X_test_resampled_combined\n",
        "        X_test_resampled_combined = X_test_resampled_combined.iloc[:y1_resampled.shape[0]]\n",
        "\n",
        "print(f\"Shape of X_test_resampled_combined: {X_test_resampled_combined.shape}\")\n",
        "print(f\"Shape of y1_resampled: {y1_resampled.shape}\")"
      ],
      "metadata": {
        "id": "pMH4246HuYo_"
      },
      "execution_count": null,
      "outputs": []
    },
    {
      "cell_type": "code",
      "source": [
        "Shape of X_test_resampled_combined: (54934, 30)\n",
        "Shape of y1_resampled: (54934,)"
      ],
      "metadata": {
        "id": "ENhUn32YucF_"
      },
      "execution_count": null,
      "outputs": []
    },
    {
      "cell_type": "code",
      "source": [
        "print(f\"Shape of X_train_resampled_combined: {X_train_resampled_combined.shape}\")\n",
        "print(f\"Shape of y_resampled: {y_resampled.shape}\")"
      ],
      "metadata": {
        "id": "O2EK7mk_ufMr"
      },
      "execution_count": null,
      "outputs": []
    },
    {
      "cell_type": "code",
      "source": [
        "# Create individual countplots for each column\n",
        "fig, axes = plt.subplots(5, 2, figsize=(15, 20))\n",
        "\n",
        "sns.countplot(x='model_0', hue = 'model_0', data=X_test_resampled_combined, ax=axes[0, 0])\n",
        "sns.countplot(x='model_1', hue = 'model_1', data=X_test_resampled_combined, ax=axes[0, 1])\n",
        "sns.countplot(x='certified', hue = 'certified', data=X_test_resampled_combined, ax=axes[1, 0])\n",
        "sns.countplot(x='fuel_type_from_vin_CNG', hue = 'fuel_type_from_vin_CNG', data=X_test_resampled_combined, ax=axes[1, 1])\n",
        "sns.countplot(x='fuel_type_from_vin_Diesel', hue = 'fuel_type_from_vin_Diesel', data=X_test_resampled_combined, ax=axes[2, 0])\n",
        "sns.countplot(x='fuel_type_from_vin_Electric', hue = 'fuel_type_from_vin_Electric', data=X_test_resampled_combined, ax=axes[2, 1])\n",
        "sns.countplot(x='fuel_type_from_vin_Hybrid', hue = 'fuel_type_from_vin_Hybrid', data=X_test_resampled_combined, ax=axes[3, 0])\n",
        "sns.countplot(x='fuel_type_from_vin_Hydrogen', hue = 'fuel_type_from_vin_Hydrogen', data=X_test_resampled_combined, ax=axes[3, 1])\n",
        "sns.countplot(x='fuel_type_from_vin_PHEV', hue = 'fuel_type_from_vin_PHEV', data=X_test_resampled_combined, ax=axes[4, 0])\n",
        "\n",
        "# Convert y1_resampled to a DataFrame before using it in sns.countplot\n",
        "y1_resampled_df = y1_resampled.to_frame()\n",
        "\n",
        "# Now use the DataFrame in sns.countplot\n",
        "sns.countplot(x='transmission_from_vin', hue='transmission_from_vin', data=y1_resampled_df, ax=axes[4, 1])\n",
        "\n",
        "# clear extra subplots to avoid empty plots\n",
        "# axes[4, 1].axis('off')\n",
        "plt.tight_layout()  # Adjust spacing between subplots\n",
        "plt.show()"
      ],
      "metadata": {
        "id": "T-YzLgCnu1b5"
      },
      "execution_count": null,
      "outputs": []
    },
    {
      "cell_type": "code",
      "source": [
        "#count the number of classes in each column of the Train set after handling imbalance\n",
        "print(X_test_resampled_combined['model_0'].value_counts())\n",
        "print(X_test_resampled_combined['model_1'].value_counts())\n",
        "print(X_test_resampled_combined['certified'].value_counts())\n",
        "print(X_test_resampled_combined['fuel_type_from_vin_CNG'].value_counts())\n",
        "print(X_test_resampled_combined['fuel_type_from_vin_Diesel'].value_counts())\n",
        "print(X_test_resampled_combined['fuel_type_from_vin_Electric'].value_counts())\n",
        "print(X_test_resampled_combined['fuel_type_from_vin_Hybrid'].value_counts())\n",
        "print(X_test_resampled_combined['fuel_type_from_vin_Hydrogen'].value_counts())\n",
        "print(X_test_resampled_combined['fuel_type_from_vin_PHEV'].value_counts())\n",
        "print(y_resampled.value_counts())"
      ],
      "metadata": {
        "id": "XLvH6Hcou5s0"
      },
      "execution_count": null,
      "outputs": []
    },
    {
      "cell_type": "code",
      "source": [
        "X_test_resampled_combined.head()"
      ],
      "metadata": {
        "id": "PoS34fDTu8uu"
      },
      "execution_count": null,
      "outputs": []
    },
    {
      "cell_type": "code",
      "source": [
        "y1_resampled.head()"
      ],
      "metadata": {
        "id": "gmigqoDRu_Rb"
      },
      "execution_count": null,
      "outputs": []
    },
    {
      "cell_type": "code",
      "source": [
        "print(X_train_resampled_combined.shape)\n",
        "print(X_test_resampled_combined.shape)\n",
        "print(y_resampled.shape)\n",
        "print(y1_resampled.shape)"
      ],
      "metadata": {
        "id": "SyXxdF1xvBul"
      },
      "execution_count": null,
      "outputs": []
    },
    {
      "cell_type": "markdown",
      "source": [
        "## **7. Scaling Test and Train Sets**\n",
        "### The purpose of scaling is to bring all features (variables) into a common range or distribution. This can improve the performance and convergence speed of machine learning algorithms"
      ],
      "metadata": {
        "id": "Dd1DiZpVvFBK"
      }
    },
    {
      "cell_type": "markdown",
      "source": [
        "### **Scaling X_train**"
      ],
      "metadata": {
        "id": "Da_JanacvIKu"
      }
    },
    {
      "cell_type": "code",
      "source": [
        "from sklearn.preprocessing import MinMaxScaler\n",
        "\n",
        "# Initialize MinMaxScaler with desired range (default is 0 to 1)\n",
        "scaler = MinMaxScaler()\n",
        "\n",
        "# Fit and transform the data\n",
        "scaled_X_train_resampled_combined = scaler.fit_transform(X_train_resampled_combined)\n",
        "\n",
        "# Convert the result back to a DataFrame\n",
        "scaled_X_train_resampled_combined = pd.DataFrame(scaled_X_train_resampled_combined, columns=X_train_resampled_combined.columns)\n",
        "\n",
        "print(\"Scaled Data:\")\n",
        "scaled_X_train_resampled_combined.head()\n"
      ],
      "metadata": {
        "id": "zis12o8cvJaF"
      },
      "execution_count": null,
      "outputs": []
    },
    {
      "cell_type": "markdown",
      "source": [
        "### **Scaling X_test**"
      ],
      "metadata": {
        "id": "7ZKGgnI9vQ29"
      }
    },
    {
      "cell_type": "code",
      "source": [
        "# Initialize MinMaxScaler with desired range (default is 0 to 1)\n",
        "scaler2 = MinMaxScaler()\n",
        "\n",
        "# Fit and transform the data\n",
        "scaled_X_test_resampled_combined = scaler2.fit_transform(X_test_resampled_combined)\n",
        "\n",
        "# Get column names from the original DataFrame\n",
        "#columns = X_test.columns\n",
        "\n",
        "# Convert the result back to a DataFrame using the original column names\n",
        "scaled_X_test_resampled_combined = pd.DataFrame(scaled_X_test_resampled_combined, columns=X_test_resampled_combined.columns)\n",
        "\n",
        "print(\"Scaled Data:\")\n",
        "scaled_X_test_resampled_combined.head()"
      ],
      "metadata": {
        "id": "reFvKN8DvTcR"
      },
      "execution_count": null,
      "outputs": []
    },
    {
      "cell_type": "code",
      "source": [
        "# scaling y1_resampled_df\n",
        "scaler3 = MinMaxScaler()\n",
        "\n",
        "# Fit and transform the data\n",
        "scaled_y1_resampled_df = scaler3.fit_transform(y1_resampled_df)"
      ],
      "metadata": {
        "id": "iLswi8SpvWo7"
      },
      "execution_count": null,
      "outputs": []
    },
    {
      "cell_type": "code",
      "source": [
        "# scaling y1_resampled_df\n",
        "scaler4 = MinMaxScaler()\n",
        "\n",
        "# Fit and transform the data\n",
        "scaled_y_resampled_df = scaler4.fit_transform(y_resampled_df)"
      ],
      "metadata": {
        "id": "LeDiQZwuvZe6"
      },
      "execution_count": null,
      "outputs": []
    },
    {
      "cell_type": "code",
      "source": [
        "print(scaled_X_train_resampled_combined.shape)\n",
        "print(scaled_X_test_resampled_combined.shape)"
      ],
      "metadata": {
        "id": "6hwSLQnEvds2"
      },
      "execution_count": null,
      "outputs": []
    },
    {
      "cell_type": "code",
      "source": [
        "print(y_resampled.shape) # train\n",
        "print(y1_resampled.shape) # test"
      ],
      "metadata": {
        "id": "vWwU1Jzsvf7-"
      },
      "execution_count": null,
      "outputs": []
    }
  ]
}