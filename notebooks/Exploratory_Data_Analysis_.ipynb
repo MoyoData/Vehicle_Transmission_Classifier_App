{
  "nbformat": 4,
  "nbformat_minor": 0,
  "metadata": {
    "colab": {
      "provenance": []
    },
    "kernelspec": {
      "name": "python3",
      "display_name": "Python 3"
    },
    "language_info": {
      "name": "python"
    }
  },
  "cells": [
    {
      "cell_type": "code",
      "execution_count": null,
      "metadata": {
        "id": "e8wS8K3RjEbI"
      },
      "outputs": [],
      "source": [
        "# import necessary python libraries to visualize and manipulate the data\n",
        "import pandas as pd\n",
        "import matplotlib.pyplot as plt\n",
        "import seaborn as sns\n",
        "from sklearn.preprocessing import MinMaxScaler"
      ]
    },
    {
      "cell_type": "markdown",
      "source": [
        "**1. Exploring CBB_Listing Dataset.**"
      ],
      "metadata": {
        "id": "29Na7VO5jTXv"
      }
    },
    {
      "cell_type": "code",
      "source": [
        "# display the first 5 rows\n",
        "df_goData.head()"
      ],
      "metadata": {
        "id": "s84iOuWCjWQp"
      },
      "execution_count": null,
      "outputs": []
    },
    {
      "cell_type": "code",
      "source": [
        "# display the last 5 rows\n",
        "df_goData.tail()"
      ],
      "metadata": {
        "id": "g-Pa6hCnjZPP"
      },
      "execution_count": null,
      "outputs": []
    },
    {
      "cell_type": "code",
      "source": [
        "# making a list of the columns in the dataset\n",
        "df_goData.columns"
      ],
      "metadata": {
        "id": "Ch2G8o-Vjb5d"
      },
      "execution_count": null,
      "outputs": []
    },
    {
      "cell_type": "code",
      "source": [
        "# get general information about the dataset\n",
        "df_goData.info()"
      ],
      "metadata": {
        "id": "3IrbqQR3je_X"
      },
      "execution_count": null,
      "outputs": []
    },
    {
      "cell_type": "markdown",
      "source": [
        "**Observations**\n",
        "\n",
        "---\n",
        "\n",
        "\n",
        "1. There are 145144 rows and 46 columns\n",
        "2. 9 columns contain null values:\n",
        "\n",
        "  listing_heading,\n",
        "  dealer_email,\n",
        "  dealer_phone,\n",
        "  series,\n",
        "  exterior_color,\n",
        "  exterior_color_category,\n",
        "  interior_color,\n",
        "  interior_color_category,\n",
        "  listing_dropoff_date\n",
        "\n",
        "3. The entire column of dealer email has no data\n"
      ],
      "metadata": {
        "id": "EJ-YCW77jki6"
      }
    },
    {
      "cell_type": "code",
      "source": [
        "# get the number of rows and columns in the dataset\n",
        "\n",
        "df_goData.shape"
      ],
      "metadata": {
        "id": "bxDCibdyjoRo"
      },
      "execution_count": null,
      "outputs": []
    },
    {
      "cell_type": "code",
      "source": [
        "# checking for unique values in each column\n",
        "df_goData.nunique()"
      ],
      "metadata": {
        "id": "tMnILST8jpC6"
      },
      "execution_count": null,
      "outputs": []
    },
    {
      "cell_type": "code",
      "source": [
        "# checking for duplicates\n",
        "\n",
        "df_goData.duplicated().sum()"
      ],
      "metadata": {
        "id": "CxQ6w1BUjvkH"
      },
      "execution_count": null,
      "outputs": []
    },
    {
      "cell_type": "code",
      "source": [
        "# generating correlation matrix\n",
        "corr_matrix = df_goData.corr(numeric_only = True)\n",
        "corr_matrix"
      ],
      "metadata": {
        "id": "5nrrXKnhjy8_"
      },
      "execution_count": null,
      "outputs": []
    },
    {
      "cell_type": "code",
      "source": [
        "# Creating a heatmap using Seaborn\n",
        "plt.figure(figsize=(12, 10))\n",
        "sns.heatmap(corr_matrix, annot=True, cmap='coolwarm', fmt= \".2f\")\n",
        "plt.title('Correlation Heatmap', size = 24)"
      ],
      "metadata": {
        "id": "u9Z1U0ZZj2Fz"
      },
      "execution_count": null,
      "outputs": []
    },
    {
      "cell_type": "code",
      "source": [
        "pip install ydata-profiling"
      ],
      "metadata": {
        "id": "5FY0boRDj5xl"
      },
      "execution_count": null,
      "outputs": []
    },
    {
      "cell_type": "code",
      "source": [
        "from ydata_profiling import ProfileReport"
      ],
      "metadata": {
        "id": "LIqtxt3oj8uY"
      },
      "execution_count": null,
      "outputs": []
    },
    {
      "cell_type": "code",
      "source": [
        "profile = ProfileReport(df_goData, title=\"Pandas Profiling Report\", explorative=True)\n",
        "profile"
      ],
      "metadata": {
        "id": "9SpiHVKjkH0E"
      },
      "execution_count": null,
      "outputs": []
    }
  ]
}