{
  "nbformat": 4,
  "nbformat_minor": 0,
  "metadata": {
    "colab": {
      "provenance": []
    },
    "kernelspec": {
      "name": "python3",
      "display_name": "Python 3"
    },
    "language_info": {
      "name": "python"
    }
  },
  "cells": [
    {
      "cell_type": "code",
      "execution_count": null,
      "metadata": {
        "id": "hZx0EBfZkpH5"
      },
      "outputs": [],
      "source": []
    },
    {
      "cell_type": "markdown",
      "source": [
        "**2a. Data cleaning: Removing null values**"
      ],
      "metadata": {
        "id": "k1s79iomk9gx"
      }
    },
    {
      "cell_type": "code",
      "source": [
        "# enabling copy on write to avoid creating unnecessary copies\n",
        "pd.options.mode.copy_on_write = True"
      ],
      "metadata": {
        "id": "ATgRCbPXk-wk"
      },
      "execution_count": null,
      "outputs": []
    },
    {
      "cell_type": "code",
      "source": [
        "# filling null values in series with unknown\n",
        "df_goData.fillna('unknown', inplace=True)"
      ],
      "metadata": {
        "id": "giK7TQcAlET2"
      },
      "execution_count": null,
      "outputs": []
    },
    {
      "cell_type": "code",
      "source": [
        "# confirming there are no cells containing null in the dataframe\n",
        "df_goData.info()"
      ],
      "metadata": {
        "id": "Nah-y7c9lH8Y"
      },
      "execution_count": null,
      "outputs": []
    },
    {
      "cell_type": "code",
      "source": [
        "# confirming there are no cells containing null in the dataframe\n",
        "df_goData.isnull().sum()"
      ],
      "metadata": {
        "id": "bARRwq5plMiH"
      },
      "execution_count": null,
      "outputs": []
    },
    {
      "cell_type": "code",
      "source": [
        "# checking for duplicate rows\n",
        "duplicate_rows = df_goData.duplicated()\n",
        "duplicate_rows"
      ],
      "metadata": {
        "id": "3DRIzWDxlQzQ"
      },
      "execution_count": null,
      "outputs": []
    },
    {
      "cell_type": "code",
      "source": [
        "duplicate_rows.nunique()"
      ],
      "metadata": {
        "id": "-8CPmdEqlT5T"
      },
      "execution_count": null,
      "outputs": []
    },
    {
      "cell_type": "markdown",
      "source": [
        "**Since there is only 1 unique entry in duplicate rows, it means that there are no duplicates**"
      ],
      "metadata": {
        "id": "6YZXD25alY9J"
      }
    },
    {
      "cell_type": "code",
      "source": [
        "df_goData.shape"
      ],
      "metadata": {
        "id": "dVzMVw3blaD0"
      },
      "execution_count": null,
      "outputs": []
    },
    {
      "cell_type": "markdown",
      "source": [
        "### **2c. Data cleaning: Removing Outliers**"
      ],
      "metadata": {
        "id": "x4oQpJFnlot5"
      }
    },
    {
      "cell_type": "markdown",
      "source": [
        "**Removing outliers from price coulum**"
      ],
      "metadata": {
        "id": "GuHwGoJzlsS3"
      }
    },
    {
      "cell_type": "code",
      "source": [
        "# Calculate Q1 (25th percentile) and Q3 (75th percentile)\n",
        "Q1 = df_goData['price'].quantile(0.25)\n",
        "Q3 = df_goData['price'].quantile(0.75)\n",
        "\n",
        "# Calculate IQR\n",
        "IQR = Q3 - Q1\n",
        "\n",
        "# Define the bounds for outliers\n",
        "lower_bound = Q1 - 1.5 * IQR\n",
        "upper_bound = Q3 + 1.5 * IQR\n",
        "\n",
        "# Remove outliers\n",
        "df_no_outliers = df_goData[(df_goData['price'] >= lower_bound) & (df_goData['price'] <= upper_bound)]\n",
        "\n",
        "\n"
      ],
      "metadata": {
        "id": "1wc5v7F2lx2R"
      },
      "execution_count": null,
      "outputs": []
    },
    {
      "cell_type": "code",
      "source": [
        "df_no_outliers.shape"
      ],
      "metadata": {
        "id": "QzaFrI8Ol0ui"
      },
      "execution_count": null,
      "outputs": []
    },
    {
      "cell_type": "markdown",
      "source": [
        "**Removing outliers from mileage column**"
      ],
      "metadata": {
        "id": "x_K6rCQhl468"
      }
    },
    {
      "cell_type": "code",
      "source": [
        "# Calculate Q1 (25th percentile) and Q3 (75th percentile)\n",
        "Q1 = df_goData['mileage'].quantile(0.25)\n",
        "Q3 = df_goData['mileage'].quantile(0.75)\n",
        "\n",
        "# Calculate IQR\n",
        "IQR = Q3 - Q1\n",
        "\n",
        "# Define the bounds for outliers\n",
        "lower_bound = Q1 - 1.5 * IQR\n",
        "upper_bound = Q3 + 1.5 * IQR\n",
        "\n",
        "# Remove outliers\n",
        "df_no_outliers = df_goData[(df_goData['mileage'] >= lower_bound) & (df_goData['mileage'] <= upper_bound)]"
      ],
      "metadata": {
        "id": "8K-lWlXPmDCa"
      },
      "execution_count": null,
      "outputs": []
    },
    {
      "cell_type": "code",
      "source": [
        "df_no_outliers.shape"
      ],
      "metadata": {
        "id": "u_US-RIYmRTB"
      },
      "execution_count": null,
      "outputs": []
    },
    {
      "cell_type": "code",
      "source": [
        "df_no_outliers.reset_index(drop=True, inplace=True)"
      ],
      "metadata": {
        "id": "2WyAiWf6mUUV"
      },
      "execution_count": null,
      "outputs": []
    },
    {
      "cell_type": "code",
      "source": [
        "df_no_outliers.info()"
      ],
      "metadata": {
        "id": "sjGjZK5tmVQg"
      },
      "execution_count": null,
      "outputs": []
    },
    {
      "cell_type": "markdown",
      "source": [
        "## **2d. Data cleaning: Assigning 6 and 7 in transmission_from_vin column to manual and automatic respectively**"
      ],
      "metadata": {
        "id": "oUKx0s3VmdR_"
      }
    },
    {
      "cell_type": "code",
      "source": [
        "# checking the unique entries for transmission_from_vin column\n",
        "df_no_outliers['transmission_from_vin'].unique()"
      ],
      "metadata": {
        "id": "smGGLqV9mfuC"
      },
      "execution_count": null,
      "outputs": []
    },
    {
      "cell_type": "code",
      "source": [
        "# checking the unique entries for transmission_from_vin column after replacing 6 and 7\n",
        "df_no_outliers['transmission_from_vin'].unique()"
      ],
      "metadata": {
        "id": "8KUMw8rhmk5i"
      },
      "execution_count": null,
      "outputs": []
    },
    {
      "cell_type": "markdown",
      "source": [
        "### **3. Identifying Significant Attributes for Problem 3.**"
      ],
      "metadata": {
        "id": "7zWlPJCvmo8T"
      }
    },
    {
      "cell_type": "markdown",
      "source": [
        "Based on our research into car features, we identified 18 features that has a high potential to make accurate predictions on vehicle transmission type. Following this selction, we are using Chi-square technique to identify features (from these 18) that would best make good predictions, there by reducing the number of features from 18 initially selected."
      ],
      "metadata": {
        "id": "UyfKE64ZmqfR"
      }
    },
    {
      "cell_type": "code",
      "source": [
        "# creating a new dataframe containing relevant features\n",
        "df_features = df_no_outliers[['model_year', 'make', 'model', 'mileage', 'price', 'series', 'style', 'dealer_type', 'stock_type', 'days_on_market', 'certified', 'vin',\n",
        "                         'drivetrain_from_vin', 'engine_from_vin', 'wheelbase_from_vin','fuel_type_from_vin', 'number_price_changes','transmission_from_vin']]"
      ],
      "metadata": {
        "id": "q_Pv1xzOmysb"
      },
      "execution_count": null,
      "outputs": []
    },
    {
      "cell_type": "code",
      "source": [
        "df_features.info()"
      ],
      "metadata": {
        "id": "KZ_U4VJtm3Qt"
      },
      "execution_count": null,
      "outputs": []
    },
    {
      "cell_type": "code",
      "source": [
        "from sklearn.feature_selection import chi2\n",
        "from sklearn.preprocessing import LabelEncoder, OrdinalEncoder # Import OrdinalEncoder\n",
        "\n",
        "X = df_features.drop('transmission_from_vin', axis=1)  # Features\n",
        "y = df_features['transmission_from_vin']  # Target\n",
        "\n",
        "# Convert categorical features to numerical using OrdinalEncoder\n",
        "encoder = OrdinalEncoder() # Initialize OrdinalEncoder\n",
        "X_encoded = encoder.fit_transform(X) # Fit and transform X\n",
        "\n",
        "# Chi-squared test\n",
        "chi_scores = chi2(X_encoded, y) # Use encoded X for chi2 test\n",
        "p_values = pd.Series(chi_scores[1], index=X.columns)\n",
        "p_values.sort_values(ascending=True, inplace=True)\n",
        "print(p_values)  # Features with lower p-values are more important"
      ],
      "metadata": {
        "id": "scdil31Mm7sg"
      },
      "execution_count": null,
      "outputs": []
    },
    {
      "cell_type": "markdown",
      "source": [
        "From the result of Chi-Square test, **model_year, model, number_price_changes, stock_type, dealer_type, fuel_type_from_vin, and certified** have the lowest p-values and are the most useful in making accurate predictions. In addition to these 7, we will include **make, mileage and price** which we have been instructed to include as features in our model."
      ],
      "metadata": {
        "id": "wpn0LVownFLY"
      }
    },
    {
      "cell_type": "code",
      "source": [
        "# creating a new dataframe containing relevant 11 features\n",
        "df_model_features = df_features[['model_year', 'make', 'model', 'mileage', 'price', 'number_price_changes',\n",
        "                              'stock_type', 'dealer_type', 'fuel_type_from_vin', 'certified', 'transmission_from_vin']]\n",
        "\n",
        "# displaying the new dataframe\n",
        "df_model_features.head()"
      ],
      "metadata": {
        "id": "Zgk8Sm_LnG8E"
      },
      "execution_count": null,
      "outputs": []
    },
    {
      "cell_type": "code",
      "source": [
        "df_model_features.shape"
      ],
      "metadata": {
        "id": "hxJ8sR9WnMod"
      },
      "execution_count": null,
      "outputs": []
    },
    {
      "cell_type": "code",
      "source": [
        "df_model_features.info()"
      ],
      "metadata": {
        "id": "ZDWDDkcunPms"
      },
      "execution_count": null,
      "outputs": []
    }
  ]
}