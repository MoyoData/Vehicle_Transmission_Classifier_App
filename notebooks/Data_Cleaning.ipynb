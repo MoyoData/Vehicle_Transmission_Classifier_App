{
  "cells": [
    {
      "cell_type": "code",
      "execution_count": null,
      "metadata": {
        "id": "hZx0EBfZkpH5"
      },
      "outputs": [],
      "source": []
    },
    {
      "cell_type": "markdown",
      "metadata": {
        "id": "k1s79iomk9gx"
      },
      "source": [
        "**2a. Data cleaning: Removing null values**"
      ]
    },
    {
      "cell_type": "code",
      "execution_count": null,
      "metadata": {
        "id": "ATgRCbPXk-wk"
      },
      "outputs": [],
      "source": [
        "# enabling copy on write to avoid creating unnecessary copies\n",
        "pd.options.mode.copy_on_write = True"
      ]
    },
    {
      "cell_type": "code",
      "execution_count": null,
      "metadata": {
        "id": "giK7TQcAlET2"
      },
      "outputs": [],
      "source": [
        "# filling null values in series with unknown\n",
        "df_goData.fillna('unknown', inplace=True)"
      ]
    },
    {
      "cell_type": "code",
      "execution_count": null,
      "metadata": {
        "id": "Nah-y7c9lH8Y"
      },
      "outputs": [],
      "source": [
        "# confirming there are no cells containing null in the dataframe\n",
        "df_goData.info()"
      ]
    },
    {
      "cell_type": "code",
      "execution_count": null,
      "metadata": {
        "id": "bARRwq5plMiH"
      },
      "outputs": [],
      "source": [
        "# confirming there are no cells containing null in the dataframe\n",
        "df_goData.isnull().sum()"
      ]
    },
    {
      "cell_type": "code",
      "execution_count": null,
      "metadata": {
        "id": "3DRIzWDxlQzQ"
      },
      "outputs": [],
      "source": [
        "# checking for duplicate rows\n",
        "duplicate_rows = df_goData.duplicated()\n",
        "duplicate_rows"
      ]
    },
    {
      "cell_type": "code",
      "execution_count": null,
      "metadata": {
        "id": "-8CPmdEqlT5T"
      },
      "outputs": [],
      "source": [
        "duplicate_rows.nunique()"
      ]
    },
    {
      "cell_type": "markdown",
      "metadata": {
        "id": "6YZXD25alY9J"
      },
      "source": [
        "**Since there is only 1 unique entry in duplicate rows, it means that there are no duplicates**"
      ]
    },
    {
      "cell_type": "code",
      "execution_count": null,
      "metadata": {
        "id": "dVzMVw3blaD0"
      },
      "outputs": [],
      "source": [
        "df_goData.shape"
      ]
    },
    {
      "cell_type": "markdown",
      "metadata": {
        "id": "x4oQpJFnlot5"
      },
      "source": [
        "### **2c. Data cleaning: Removing Outliers**"
      ]
    },
    {
      "cell_type": "markdown",
      "metadata": {
        "id": "GuHwGoJzlsS3"
      },
      "source": [
        "**Removing outliers from price coulum**"
      ]
    },
    {
      "cell_type": "code",
      "execution_count": null,
      "metadata": {
        "id": "1wc5v7F2lx2R"
      },
      "outputs": [],
      "source": [
        "# Calculate Q1 (25th percentile) and Q3 (75th percentile)\n",
        "Q1 = df_goData['price'].quantile(0.25)\n",
        "Q3 = df_goData['price'].quantile(0.75)\n",
        "\n",
        "# Calculate IQR\n",
        "IQR = Q3 - Q1\n",
        "\n",
        "# Define the bounds for outliers\n",
        "lower_bound = Q1 - 1.5 * IQR\n",
        "upper_bound = Q3 + 1.5 * IQR\n",
        "\n",
        "# Remove outliers\n",
        "df_no_outliers = df_goData[(df_goData['price'] >= lower_bound) & (df_goData['price'] <= upper_bound)]\n",
        "\n",
        "\n"
      ]
    },
    {
      "cell_type": "code",
      "execution_count": null,
      "metadata": {
        "id": "QzaFrI8Ol0ui"
      },
      "outputs": [],
      "source": [
        "df_no_outliers.shape"
      ]
    },
    {
      "cell_type": "markdown",
      "metadata": {
        "id": "x_K6rCQhl468"
      },
      "source": [
        "**Removing outliers from mileage column**"
      ]
    },
    {
      "cell_type": "code",
      "execution_count": null,
      "metadata": {
        "id": "8K-lWlXPmDCa"
      },
      "outputs": [],
      "source": [
        "# Calculate Q1 (25th percentile) and Q3 (75th percentile)\n",
        "Q1 = df_goData['mileage'].quantile(0.25)\n",
        "Q3 = df_goData['mileage'].quantile(0.75)\n",
        "\n",
        "# Calculate IQR\n",
        "IQR = Q3 - Q1\n",
        "\n",
        "# Define the bounds for outliers\n",
        "lower_bound = Q1 - 1.5 * IQR\n",
        "upper_bound = Q3 + 1.5 * IQR\n",
        "\n",
        "# Remove outliers\n",
        "df_no_outliers = df_goData[(df_goData['mileage'] >= lower_bound) & (df_goData['mileage'] <= upper_bound)]"
      ]
    },
    {
      "cell_type": "code",
      "execution_count": null,
      "metadata": {
        "id": "u_US-RIYmRTB"
      },
      "outputs": [],
      "source": [
        "df_no_outliers.shape"
      ]
    },
    {
      "cell_type": "code",
      "execution_count": null,
      "metadata": {
        "id": "2WyAiWf6mUUV"
      },
      "outputs": [],
      "source": [
        "df_no_outliers.reset_index(drop=True, inplace=True)"
      ]
    },
    {
      "cell_type": "code",
      "execution_count": null,
      "metadata": {
        "id": "sjGjZK5tmVQg"
      },
      "outputs": [],
      "source": [
        "df_no_outliers.info()"
      ]
    },
    {
      "cell_type": "markdown",
      "metadata": {
        "id": "oUKx0s3VmdR_"
      },
      "source": [
        "## **2d. Data cleaning: Assigning 6 and 7 in transmission_from_vin column to manual and automatic respectively**"
      ]
    },
    {
      "cell_type": "code",
      "execution_count": null,
      "metadata": {
        "id": "smGGLqV9mfuC"
      },
      "outputs": [],
      "source": [
        "# checking the unique entries for transmission_from_vin column\n",
        "df_no_outliers['transmission_from_vin'].unique()"
      ]
    },
    {
      "cell_type": "code",
      "execution_count": null,
      "metadata": {
        "id": "8KUMw8rhmk5i"
      },
      "outputs": [],
      "source": [
        "# checking the unique entries for transmission_from_vin column after replacing 6 and 7\n",
        "df_no_outliers['transmission_from_vin'].unique()"
      ]
    },
    {
      "cell_type": "markdown",
      "metadata": {
        "id": "7zWlPJCvmo8T"
      },
      "source": [
        "### **3. Identifying Significant Attributes for Problem 3.**"
      ]
    },
    {
      "cell_type": "markdown",
      "metadata": {
        "id": "UyfKE64ZmqfR"
      },
      "source": [
        "Based on our research into car features, we identified 18 features that has a high potential to make accurate predictions on vehicle transmission type. Following this selction, we are using Chi-square technique to identify features (from these 18) that would best make good predictions, there by reducing the number of features from 18 initially selected."
      ]
    },
    {
      "cell_type": "code",
      "execution_count": null,
      "metadata": {
        "id": "q_Pv1xzOmysb"
      },
      "outputs": [],
      "source": [
        "# creating a new dataframe containing relevant features\n",
        "df_features = df_no_outliers[['model_year', 'make', 'model', 'mileage', 'price', 'series', 'style', 'dealer_type', 'stock_type', 'days_on_market', 'certified', 'vin',\n",
        "                         'drivetrain_from_vin', 'engine_from_vin', 'wheelbase_from_vin','fuel_type_from_vin', 'number_price_changes','transmission_from_vin']]"
      ]
    },
    {
      "cell_type": "code",
      "execution_count": null,
      "metadata": {
        "id": "KZ_U4VJtm3Qt"
      },
      "outputs": [],
      "source": [
        "df_features.info()"
      ]
    },
    {
      "cell_type": "code",
      "execution_count": null,
      "metadata": {
        "id": "scdil31Mm7sg"
      },
      "outputs": [],
      "source": [
        "from sklearn.feature_selection import chi2\n",
        "from sklearn.preprocessing import LabelEncoder, OrdinalEncoder # Import OrdinalEncoder\n",
        "\n",
        "X = df_features.drop('transmission_from_vin', axis=1)  # Features\n",
        "y = df_features['transmission_from_vin']  # Target\n",
        "\n",
        "# Convert categorical features to numerical using OrdinalEncoder\n",
        "encoder = OrdinalEncoder() # Initialize OrdinalEncoder\n",
        "X_encoded = encoder.fit_transform(X) # Fit and transform X\n",
        "\n",
        "# Chi-squared test\n",
        "chi_scores = chi2(X_encoded, y) # Use encoded X for chi2 test\n",
        "p_values = pd.Series(chi_scores[1], index=X.columns)\n",
        "p_values.sort_values(ascending=True, inplace=True)\n",
        "print(p_values)  # Features with lower p-values are more important"
      ]
    },
    {
      "cell_type": "markdown",
      "metadata": {
        "id": "wpn0LVownFLY"
      },
      "source": [
        "From the result of Chi-Square test, **model_year, model, number_price_changes, stock_type, dealer_type, fuel_type_from_vin, and certified** have the lowest p-values and are the most useful in making accurate predictions. In addition to these 7, we will include **make, mileage and price** which we have been instructed to include as features in our model."
      ]
    },
    {
      "cell_type": "code",
      "execution_count": null,
      "metadata": {
        "id": "Zgk8Sm_LnG8E"
      },
      "outputs": [],
      "source": [
        "# creating a new dataframe containing relevant 11 features\n",
        "df_model_features = df_features[['model_year', 'make', 'model', 'mileage', 'price', 'number_price_changes',\n",
        "                              'stock_type', 'dealer_type', 'fuel_type_from_vin', 'certified', 'transmission_from_vin']]\n",
        "\n",
        "# displaying the new dataframe\n",
        "df_model_features.head()"
      ]
    },
    {
      "cell_type": "code",
      "execution_count": null,
      "metadata": {
        "id": "hxJ8sR9WnMod"
      },
      "outputs": [],
      "source": [
        "df_model_features.shape"
      ]
    },
    {
      "cell_type": "code",
      "execution_count": null,
      "metadata": {
        "id": "ZDWDDkcunPms"
      },
      "outputs": [],
      "source": [
        "df_model_features.info()"
      ]
    }
  ],
  "metadata": {
    "colab": {
      "provenance": []
    },
    "kernelspec": {
      "display_name": "Python 3",
      "name": "python3"
    },
    "language_info": {
      "name": "python",
      "version": "3.12.3"
    }
  },
  "nbformat": 4,
  "nbformat_minor": 0
}
